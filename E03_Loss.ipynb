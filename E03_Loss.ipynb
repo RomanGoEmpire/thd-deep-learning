{
 "cells": [
  {
   "cell_type": "markdown",
   "id": "d2ae309f",
   "metadata": {},
   "source": [
    "# Loss Functions"
   ]
  },
  {
   "cell_type": "markdown",
   "id": "dbeb7b49",
   "metadata": {},
   "source": [
    "## Schritt 1: Categorical Cross-Entropy loss berechnen"
   ]
  },
  {
   "cell_type": "code",
   "execution_count": 3,
   "id": "a9274e12",
   "metadata": {},
   "outputs": [],
   "source": [
    "import math"
   ]
  },
  {
   "cell_type": "code",
   "execution_count": 4,
   "id": "8421f25d",
   "metadata": {},
   "outputs": [],
   "source": [
    "softmax_output = [0.7, 0.1, 0.2]\n",
    "target_output = [1, 0, 0]"
   ]
  },
  {
   "cell_type": "code",
   "execution_count": 6,
   "id": "80b05528",
   "metadata": {},
   "outputs": [
    {
     "data": {
      "text/plain": [
       "0.35667494393873245"
      ]
     },
     "execution_count": 6,
     "metadata": {},
     "output_type": "execute_result"
    }
   ],
   "source": [
    "loss = -(\n",
    "    math.log(softmax_output[0]) * target_output[0]\n",
    "    + math.log(softmax_output[1]) * target_output[1]\n",
    "    + math.log(softmax_output[2]) * target_output[2]\n",
    ")\n",
    "loss"
   ]
  },
  {
   "cell_type": "code",
   "execution_count": 7,
   "id": "e48da198",
   "metadata": {},
   "outputs": [
    {
     "data": {
      "text/plain": [
       "0.35667494393873245"
      ]
     },
     "execution_count": 7,
     "metadata": {},
     "output_type": "execute_result"
    }
   ],
   "source": [
    "loss_simple = -math.log(softmax_output[0])\n",
    "loss_simple"
   ]
  },
  {
   "cell_type": "markdown",
   "id": "c50fa268",
   "metadata": {},
   "source": [
    "### Log Funktion reminder"
   ]
  },
  {
   "cell_type": "code",
   "execution_count": 8,
   "id": "76b931a3",
   "metadata": {},
   "outputs": [],
   "source": [
    "import matplotlib.pyplot as plt\n",
    "import seaborn as sns\n",
    "import numpy as np"
   ]
  },
  {
   "cell_type": "code",
   "execution_count": 9,
   "id": "1d3e1098",
   "metadata": {},
   "outputs": [],
   "source": [
    "sns.set_context(\"talk\")"
   ]
  },
  {
   "cell_type": "code",
   "execution_count": 14,
   "id": "0ae62097",
   "metadata": {},
   "outputs": [
    {
     "data": {
      "image/png": "[encoded data removed]",
      "text/plain": [
       "<Figure size 640x480 with 1 Axes>"
      ]
     },
     "metadata": {},
     "output_type": "display_data"
    }
   ],
   "source": [
    "x = np.linspace(0.001, 1, 1000)\n",
    "y = -np.log(x)\n",
    "\n",
    "f, ax = plt.subplots(1)\n",
    "ax.plot(x, y)\n",
    "\n",
    "_ = ax.set_xlabel(\"Softmax output\")\n",
    "_ = ax.set_ylabel(\"Loss\")"
   ]
  },
  {
   "cell_type": "markdown",
   "id": "439a5718",
   "metadata": {},
   "source": [
    "## Schritt 2: Mehrere Samples"
   ]
  },
  {
   "cell_type": "code",
   "execution_count": 15,
   "id": "19eefc44",
   "metadata": {},
   "outputs": [],
   "source": [
    "class Activation_Softmax:\n",
    "    def forward(self, inputs):\n",
    "        # Step 1: Subtract maximum and calculate exponential values\n",
    "        exp_values = np.exp(inputs - np.max(inputs, axis=1, keepdims=True))\n",
    "\n",
    "        # Step 2: Normalize exp values\n",
    "        self.output = exp_values / np.sum(exp_values, axis=1, keepdims=True)"
   ]
  },
  {
   "cell_type": "code",
   "execution_count": 16,
   "id": "7be2a9ca",
   "metadata": {},
   "outputs": [],
   "source": [
    "output = np.random.randn(3, 3)"
   ]
  },
  {
   "cell_type": "code",
   "execution_count": 17,
   "id": "03592457",
   "metadata": {},
   "outputs": [
    {
     "data": {
      "text/plain": [
       "array([[ 1.62249678, -0.82996792,  0.42636536],\n",
       "       [ 1.49683558, -0.62528825, -0.40211613],\n",
       "       [ 0.60538682,  0.38380428,  1.31772151]])"
      ]
     },
     "execution_count": 17,
     "metadata": {},
     "output_type": "execute_result"
    }
   ],
   "source": [
    "output"
   ]
  },
  {
   "cell_type": "code",
   "execution_count": 18,
   "id": "72d2ee27",
   "metadata": {},
   "outputs": [],
   "source": [
    "softmax = Activation_Softmax()\n",
    "softmax.forward(output)\n",
    "softmax_outputs = softmax.output"
   ]
  },
  {
   "cell_type": "code",
   "execution_count": 19,
   "id": "39f1ade5",
   "metadata": {},
   "outputs": [
    {
     "data": {
      "text/plain": [
       "array([[0.72023132, 0.06199835, 0.21777034],\n",
       "       [0.78771017, 0.09434954, 0.11794029],\n",
       "       [0.26041698, 0.20865905, 0.53092397]])"
      ]
     },
     "execution_count": 19,
     "metadata": {},
     "output_type": "execute_result"
    }
   ],
   "source": [
    "softmax_outputs"
   ]
  },
  {
   "cell_type": "markdown",
   "id": "69cc26ac",
   "metadata": {},
   "source": [
    "### Sparse labels"
   ]
  },
  {
   "cell_type": "code",
   "execution_count": 20,
   "id": "85c325b6",
   "metadata": {},
   "outputs": [],
   "source": [
    "class_targets = [1, 0, 2]"
   ]
  },
  {
   "cell_type": "code",
   "execution_count": 21,
   "id": "e614b609",
   "metadata": {},
   "outputs": [
    {
     "name": "stdout",
     "output_type": "stream",
     "text": [
      "[(1, array([0.72023132, 0.06199835, 0.21777034])),\n",
      " (0, array([0.78771017, 0.09434954, 0.11794029])),\n",
      " (2, array([0.26041698, 0.20865905, 0.53092397]))]\n"
     ]
    }
   ],
   "source": [
    "from pprint import pprint\n",
    "\n",
    "pprint(list(zip(class_targets, softmax_outputs)))"
   ]
  },
  {
   "cell_type": "code",
   "execution_count": 22,
   "id": "dd722227",
   "metadata": {},
   "outputs": [
    {
     "name": "stdout",
     "output_type": "stream",
     "text": [
      "Target index: 1, Predictions: [0.72023132 0.06199835 0.21777034]\n",
      "Target index: 0, Predictions: [0.78771017 0.09434954 0.11794029]\n",
      "Target index: 2, Predictions: [0.26041698 0.20865905 0.53092397]\n"
     ]
    }
   ],
   "source": [
    "from pprint import pprint\n",
    "\n",
    "for target_index, predictions in zip(class_targets, softmax_outputs):\n",
    "    print(f\"Target index: {target_index}, Predictions: {predictions}\")"
   ]
  },
  {
   "cell_type": "code",
   "execution_count": 23,
   "id": "7676517b",
   "metadata": {},
   "outputs": [
    {
     "name": "stdout",
     "output_type": "stream",
     "text": [
      "0.06199834716735869\n",
      "0.7877101671875465\n",
      "0.5309239657561613\n"
     ]
    }
   ],
   "source": [
    "for target_index, predictions in zip(class_targets, softmax_outputs):\n",
    "    print(predictions[target_index])"
   ]
  },
  {
   "cell_type": "code",
   "execution_count": 24,
   "id": "1a932fca",
   "metadata": {},
   "outputs": [
    {
     "name": "stdout",
     "output_type": "stream",
     "text": [
      "[0.06199835 0.78771017 0.53092397]\n"
     ]
    }
   ],
   "source": [
    "print(softmax_outputs[[0, 1, 2], class_targets])"
   ]
  },
  {
   "cell_type": "code",
   "execution_count": 25,
   "id": "c3ad212f",
   "metadata": {},
   "outputs": [
    {
     "name": "stdout",
     "output_type": "stream",
     "text": [
      "[0.06199835 0.78771017 0.53092397]\n"
     ]
    }
   ],
   "source": [
    "print(softmax_outputs[range(len(softmax_outputs)), class_targets])"
   ]
  },
  {
   "cell_type": "code",
   "execution_count": 26,
   "id": "d9d5abef",
   "metadata": {},
   "outputs": [
    {
     "name": "stdout",
     "output_type": "stream",
     "text": [
      "[2.78064755 0.23862506 0.63313646]\n"
     ]
    }
   ],
   "source": [
    "print(-np.log(softmax_outputs[range(len(softmax_outputs)), class_targets]))"
   ]
  },
  {
   "cell_type": "code",
   "execution_count": 27,
   "id": "2dff51e1",
   "metadata": {},
   "outputs": [
    {
     "name": "stdout",
     "output_type": "stream",
     "text": [
      "1.217469692154199\n"
     ]
    }
   ],
   "source": [
    "print(\n",
    "    np.mean(-np.log(softmax_outputs[range(len(softmax_outputs)), class_targets])))"
   ]
  },
  {
   "cell_type": "markdown",
   "id": "ddc9448e",
   "metadata": {},
   "source": [
    "### One-hot-encoded\n"
   ]
  },
  {
   "cell_type": "code",
   "execution_count": 28,
   "id": "ddd8a0a4",
   "metadata": {},
   "outputs": [],
   "source": [
    "class_targets = np.array([[0, 1, 0], [1, 0, 0], [0, 0, 1]])"
   ]
  },
  {
   "cell_type": "code",
   "execution_count": 29,
   "id": "2db449b5",
   "metadata": {},
   "outputs": [
    {
     "data": {
      "text/plain": [
       "array([[0.        , 0.06199835, 0.        ],\n",
       "       [0.78771017, 0.        , 0.        ],\n",
       "       [0.        , 0.        , 0.53092397]])"
      ]
     },
     "execution_count": 29,
     "metadata": {},
     "output_type": "execute_result"
    }
   ],
   "source": [
    "softmax_outputs * class_targets"
   ]
  },
  {
   "cell_type": "code",
   "execution_count": 31,
   "id": "eea70c9d",
   "metadata": {},
   "outputs": [
    {
     "data": {
      "text/plain": [
       "array([0.06199835, 0.78771017, 0.53092397])"
      ]
     },
     "execution_count": 31,
     "metadata": {},
     "output_type": "execute_result"
    }
   ],
   "source": [
    "max_confidences = (softmax_outputs * class_targets).sum(axis=1)\n",
    "max_confidences"
   ]
  },
  {
   "cell_type": "markdown",
   "id": "8cb6b68f",
   "metadata": {},
   "source": [
    "### Clipping"
   ]
  },
  {
   "cell_type": "code",
   "execution_count": 32,
   "id": "bb5e0ffc",
   "metadata": {},
   "outputs": [
    {
     "data": {
      "text/plain": [
       "array([0.06199835, 0.78771017, 0.53092397])"
      ]
     },
     "execution_count": 32,
     "metadata": {},
     "output_type": "execute_result"
    }
   ],
   "source": [
    "np.clip(max_confidences, 1e-7, 1 - 1e-7)"
   ]
  },
  {
   "cell_type": "code",
   "execution_count": 33,
   "id": "08f93bf8",
   "metadata": {},
   "outputs": [
    {
     "data": {
      "text/plain": [
       "array([1.000000e-07, 3.200000e-01, 9.999999e-01])"
      ]
     },
     "execution_count": 33,
     "metadata": {},
     "output_type": "execute_result"
    }
   ],
   "source": [
    "np.clip([0, 0.32, 1], 1e-7, 1 - 1e-7)"
   ]
  },
  {
   "cell_type": "markdown",
   "id": "22ec2dd9",
   "metadata": {},
   "source": [
    "## Schritt 3: In einer Klasse verpacken"
   ]
  },
  {
   "cell_type": "code",
   "execution_count": 34,
   "id": "6c6023ee",
   "metadata": {},
   "outputs": [],
   "source": [
    "class Loss:\n",
    "    def calculate(self, output, y):\n",
    "        sample_losses = self.forward(output, y)\n",
    "\n",
    "        loss = np.mean(sample_losses)\n",
    "        return loss"
   ]
  },
  {
   "cell_type": "code",
   "execution_count": 36,
   "id": "567258b4",
   "metadata": {},
   "outputs": [],
   "source": [
    "class Loss_CategoricalCrossentropy(Loss):\n",
    "    def forward(self, y_pred, y_true):\n",
    "        n_samples = len(y_pred)\n",
    "\n",
    "        y_pred_clipped = np.clip(y_pred, 1e-7, 1 - 1e-7)\n",
    "\n",
    "        if len(y_true.shape) == 1:  # For sparse labels\n",
    "            correct_confidences = y_pred_clipped[range(n_samples), y_true]\n",
    "\n",
    "        elif len(y_true.shape) == 2:  # For one hot encoded labels\n",
    "            correct_confidences = np.sum(y_pred_clipped * y_true, axis=1)\n",
    "\n",
    "        losses = -np.log(correct_confidences)\n",
    "        return losses"
   ]
  },
  {
   "cell_type": "code",
   "execution_count": 37,
   "id": "075dd3ba",
   "metadata": {},
   "outputs": [],
   "source": [
    "loss_function = Loss_CategoricalCrossentropy()"
   ]
  },
  {
   "cell_type": "code",
   "execution_count": 38,
   "id": "149d4214",
   "metadata": {},
   "outputs": [],
   "source": [
    "loss = loss_function.calculate(softmax_outputs, class_targets)"
   ]
  },
  {
   "cell_type": "code",
   "execution_count": 39,
   "id": "089449ce",
   "metadata": {},
   "outputs": [
    {
     "name": "stdout",
     "output_type": "stream",
     "text": [
      "1.217469692154199\n"
     ]
    }
   ],
   "source": [
    "print(loss)"
   ]
  },
  {
   "cell_type": "markdown",
   "id": "474cef1a",
   "metadata": {},
   "source": [
    "## Schritt 4: Alles in einem Beispiel kombinieren"
   ]
  },
  {
   "cell_type": "code",
   "execution_count": 40,
   "id": "8e098f69",
   "metadata": {},
   "outputs": [],
   "source": [
    "import nnfs\n",
    "from nnfs.datasets import spiral_data\n",
    "\n",
    "nnfs.init()"
   ]
  },
  {
   "cell_type": "code",
   "execution_count": 41,
   "id": "db67ed0b",
   "metadata": {},
   "outputs": [],
   "source": [
    "# Dense Layer\n",
    "class Layer_Dense:\n",
    "\n",
    "    # Initialization Code\n",
    "    def __init__(self, n_inputs, n_neurons):\n",
    "        # Initilalize weights and biases according to the shape given\n",
    "        self.weights = 0.01 * np.random.randn(n_inputs, n_neurons)\n",
    "        self.biases = np.zeros((1, n_neurons))\n",
    "\n",
    "    def forward(self, inputs):\n",
    "        # Calculate output as we did on the slides\n",
    "        self.output = np.dot(inputs, self.weights) + self.biases"
   ]
  },
  {
   "cell_type": "code",
   "execution_count": 42,
   "id": "c3ccbd4a",
   "metadata": {},
   "outputs": [],
   "source": [
    "class Activation_ReLU:\n",
    "\n",
    "    def forward(self, inputs):\n",
    "        # Calculate the output based on inputs.\n",
    "        self.output = np.maximum(0, inputs)"
   ]
  },
  {
   "cell_type": "code",
   "execution_count": 43,
   "id": "1927b7fc",
   "metadata": {},
   "outputs": [],
   "source": [
    "class Loss:\n",
    "    def calculate(self, output, y):\n",
    "        # Calculate the per sample loss\n",
    "        samples_losses = self.forward(output, y)\n",
    "\n",
    "        # Calculate the mean loss and return it\n",
    "        loss = np.mean(samples_losses)\n",
    "        return loss"
   ]
  },
  {
   "cell_type": "code",
   "execution_count": 44,
   "id": "f2234d1b",
   "metadata": {},
   "outputs": [],
   "source": [
    "X, y = spiral_data(samples=100, classes=3)"
   ]
  },
  {
   "cell_type": "code",
   "execution_count": 52,
   "id": "db030f4f",
   "metadata": {},
   "outputs": [
    {
     "data": {
      "image/png": "[encoded data removed]",
      "text/plain": [
       "<Figure size 640x480 with 1 Axes>"
      ]
     },
     "metadata": {},
     "output_type": "display_data"
    }
   ],
   "source": [
    "sns.scatterplot(x=X[:, 0], y=X[:, 1], hue=y, palette=\"tab10\")\n",
    "plt.show()"
   ]
  },
  {
   "cell_type": "code",
   "execution_count": 45,
   "id": "a5e75585",
   "metadata": {},
   "outputs": [],
   "source": [
    "# Create 2 subsequent layers ((2 in, 3 out, relu), (3 in, 3 out, softmax))\n",
    "\n",
    "dense1 = Layer_Dense(2, 3)  # 2 Features, 3 Neurons\n",
    "activation1 = Activation_ReLU()\n",
    "\n",
    "dense2 = Layer_Dense(3, 3)  # 3 Features, 3 Neurons\n",
    "activation2 = Activation_Softmax()"
   ]
  },
  {
   "cell_type": "code",
   "execution_count": 46,
   "id": "f67ac7a7",
   "metadata": {},
   "outputs": [],
   "source": [
    "loss_function = Loss_CategoricalCrossentropy()"
   ]
  },
  {
   "cell_type": "code",
   "execution_count": 47,
   "id": "aaa51f3f",
   "metadata": {},
   "outputs": [],
   "source": [
    "# Perform forward pass\n",
    "dense1.forward(X)\n",
    "activation1.forward(dense1.output)\n",
    "dense2.forward(activation1.output)\n",
    "activation2.forward(dense2.output)"
   ]
  },
  {
   "cell_type": "code",
   "execution_count": 48,
   "id": "b05cbdf9",
   "metadata": {},
   "outputs": [
    {
     "name": "stdout",
     "output_type": "stream",
     "text": [
      "[[0.33333334 0.33333334 0.33333334]\n",
      " [0.33333316 0.3333332  0.33333364]\n",
      " [0.33333287 0.3333329  0.33333418]]\n"
     ]
    }
   ],
   "source": [
    "print(activation2.output[:3])"
   ]
  },
  {
   "cell_type": "code",
   "execution_count": 53,
   "id": "1dafb0b4",
   "metadata": {},
   "outputs": [
    {
     "name": "stdout",
     "output_type": "stream",
     "text": [
      "1.0986104\n"
     ]
    }
   ],
   "source": [
    "loss = loss_function.calculate(activation2.output, y)\n",
    "print(loss)"
   ]
  },
  {
   "cell_type": "code",
   "execution_count": 54,
   "id": "8c9969cb",
   "metadata": {},
   "outputs": [],
   "source": [
    "predictions = np.argmax(activation2.output, axis=1)"
   ]
  },
  {
   "cell_type": "code",
   "execution_count": 55,
   "id": "602570c6",
   "metadata": {},
   "outputs": [
    {
     "name": "stdout",
     "output_type": "stream",
     "text": [
      "0.34\n"
     ]
    }
   ],
   "source": [
    "accuracy = np.mean(predictions == y)\n",
    "print(accuracy)"
   ]
  },
  {
   "cell_type": "markdown",
   "id": "5ccfcef4",
   "metadata": {},
   "source": [
    "## Schritt 5: Naive Optimierung implementieren"
   ]
  },
  {
   "cell_type": "code",
   "execution_count": 56,
   "id": "0b81da99",
   "metadata": {},
   "outputs": [],
   "source": [
    "def run_forward_pass():\n",
    "    # Perform forward pass\n",
    "    dense1.forward(X)\n",
    "    activation1.forward(dense1.output)\n",
    "    dense2.forward(activation1.output)\n",
    "    activation2.forward(dense2.output)\n",
    "\n",
    "    # Compute loss\n",
    "    loss = loss_function.calculate(activation2.output, y)\n",
    "    return loss"
   ]
  },
  {
   "cell_type": "code",
   "execution_count": 57,
   "id": "cd3b5a78",
   "metadata": {},
   "outputs": [],
   "source": [
    "def pick_random_weights():\n",
    "    dense1.weights = 0.05 * np.random.randn(2, 3)\n",
    "    dense1.biases = 0.05 * np.random.randn(1, 3)\n",
    "    dense2.weights = 0.05 * np.random.randn(3, 3)\n",
    "    dense2.biases = 0.05 * np.random.randn(1, 3)"
   ]
  },
  {
   "cell_type": "code",
   "execution_count": 67,
   "id": "a56f5f92",
   "metadata": {},
   "outputs": [
    {
     "name": "stdout",
     "output_type": "stream",
     "text": [
      "Found new best set of weights with loss: 1.09869 and accuracy: 33.33 %.\n",
      "Found new best set of weights with loss: 1.09848 and accuracy: 33.33 %.\n",
      "Found new best set of weights with loss: 1.09836 and accuracy: 33.33 %.\n",
      "Found new best set of weights with loss: 1.09816 and accuracy: 33.33 %.\n",
      "Found new best set of weights with loss: 1.09814 and accuracy: 33.67 %.\n",
      "Found new best set of weights with loss: 1.09811 and accuracy: 31.33 %.\n",
      "Found new best set of weights with loss: 1.09805 and accuracy: 35.67 %.\n",
      "Found new best set of weights with loss: 1.09803 and accuracy: 37.33 %.\n",
      "Found new best set of weights with loss: 1.09801 and accuracy: 34.67 %.\n",
      "Found new best set of weights with loss: 1.098 and accuracy: 33.33 %.\n",
      "Found new best set of weights with loss: 1.09797 and accuracy: 31.33 %.\n",
      "Found new best set of weights with loss: 1.09793 and accuracy: 33.33 %.\n",
      "Found new best set of weights with loss: 1.09783 and accuracy: 33.67 %.\n"
     ]
    },
    {
     "ename": "KeyboardInterrupt",
     "evalue": "",
     "output_type": "error",
     "traceback": [
      "\u001b[0;31m---------------------------------------------------------------------------\u001b[0m",
      "\u001b[0;31mKeyboardInterrupt\u001b[0m                         Traceback (most recent call last)",
      "Cell \u001b[0;32mIn[67], line 4\u001b[0m\n\u001b[1;32m      2\u001b[0m \u001b[38;5;28;01mfor\u001b[39;00m iteration \u001b[38;5;129;01min\u001b[39;00m \u001b[38;5;28mrange\u001b[39m(\u001b[38;5;241m10_000_000\u001b[39m):\n\u001b[1;32m      3\u001b[0m     pick_random_weights()\n\u001b[0;32m----> 4\u001b[0m     loss \u001b[38;5;241m=\u001b[39m \u001b[43mrun_forward_pass\u001b[49m\u001b[43m(\u001b[49m\u001b[43m)\u001b[49m\n\u001b[1;32m      6\u001b[0m     predictions \u001b[38;5;241m=\u001b[39m np\u001b[38;5;241m.\u001b[39margmax(activation2\u001b[38;5;241m.\u001b[39moutput, axis\u001b[38;5;241m=\u001b[39m\u001b[38;5;241m1\u001b[39m)\n\u001b[1;32m      7\u001b[0m     accuracy \u001b[38;5;241m=\u001b[39m np\u001b[38;5;241m.\u001b[39mmean(predictions \u001b[38;5;241m==\u001b[39m y)\n",
      "Cell \u001b[0;32mIn[56], line 6\u001b[0m, in \u001b[0;36mrun_forward_pass\u001b[0;34m()\u001b[0m\n\u001b[1;32m      4\u001b[0m activation1\u001b[38;5;241m.\u001b[39mforward(dense1\u001b[38;5;241m.\u001b[39moutput)\n\u001b[1;32m      5\u001b[0m dense2\u001b[38;5;241m.\u001b[39mforward(activation1\u001b[38;5;241m.\u001b[39moutput)\n\u001b[0;32m----> 6\u001b[0m \u001b[43mactivation2\u001b[49m\u001b[38;5;241;43m.\u001b[39;49m\u001b[43mforward\u001b[49m\u001b[43m(\u001b[49m\u001b[43mdense2\u001b[49m\u001b[38;5;241;43m.\u001b[39;49m\u001b[43moutput\u001b[49m\u001b[43m)\u001b[49m\n\u001b[1;32m      8\u001b[0m \u001b[38;5;66;03m# Compute loss\u001b[39;00m\n\u001b[1;32m      9\u001b[0m loss \u001b[38;5;241m=\u001b[39m loss_function\u001b[38;5;241m.\u001b[39mcalculate(activation2\u001b[38;5;241m.\u001b[39moutput, y)\n",
      "Cell \u001b[0;32mIn[15], line 4\u001b[0m, in \u001b[0;36mActivation_Softmax.forward\u001b[0;34m(self, inputs)\u001b[0m\n\u001b[1;32m      2\u001b[0m \u001b[38;5;28;01mdef\u001b[39;00m \u001b[38;5;21mforward\u001b[39m(\u001b[38;5;28mself\u001b[39m, inputs):\n\u001b[1;32m      3\u001b[0m     \u001b[38;5;66;03m# Step 1: Subtract maximum and calculate exponential values\u001b[39;00m\n\u001b[0;32m----> 4\u001b[0m     exp_values \u001b[38;5;241m=\u001b[39m \u001b[43mnp\u001b[49m\u001b[38;5;241;43m.\u001b[39;49m\u001b[43mexp\u001b[49m\u001b[43m(\u001b[49m\u001b[43minputs\u001b[49m\u001b[43m \u001b[49m\u001b[38;5;241;43m-\u001b[39;49m\u001b[43m \u001b[49m\u001b[43mnp\u001b[49m\u001b[38;5;241;43m.\u001b[39;49m\u001b[43mmax\u001b[49m\u001b[43m(\u001b[49m\u001b[43minputs\u001b[49m\u001b[43m,\u001b[49m\u001b[43m \u001b[49m\u001b[43maxis\u001b[49m\u001b[38;5;241;43m=\u001b[39;49m\u001b[38;5;241;43m1\u001b[39;49m\u001b[43m,\u001b[49m\u001b[43m \u001b[49m\u001b[43mkeepdims\u001b[49m\u001b[38;5;241;43m=\u001b[39;49m\u001b[38;5;28;43;01mTrue\u001b[39;49;00m\u001b[43m)\u001b[49m\u001b[43m)\u001b[49m\n\u001b[1;32m      6\u001b[0m     \u001b[38;5;66;03m# Step 2: Normalize exp values\u001b[39;00m\n\u001b[1;32m      7\u001b[0m     \u001b[38;5;28mself\u001b[39m\u001b[38;5;241m.\u001b[39moutput \u001b[38;5;241m=\u001b[39m exp_values \u001b[38;5;241m/\u001b[39m np\u001b[38;5;241m.\u001b[39msum(exp_values, axis\u001b[38;5;241m=\u001b[39m\u001b[38;5;241m1\u001b[39m, keepdims\u001b[38;5;241m=\u001b[39m\u001b[38;5;28;01mTrue\u001b[39;00m)\n",
      "\u001b[0;31mKeyboardInterrupt\u001b[0m: "
     ]
    }
   ],
   "source": [
    "lowest_loss = run_forward_pass()\n",
    "for iteration in range(10_000_000):\n",
    "    pick_random_weights()\n",
    "    loss = run_forward_pass()\n",
    "\n",
    "    predictions = np.argmax(activation2.output, axis=1)\n",
    "    accuracy = np.mean(predictions == y)\n",
    "\n",
    "    if loss < lowest_loss:\n",
    "        print(\n",
    "            f\"Found new best set of weights with loss: {round(float(loss), 5)} \"\n",
    "            f\"and accuracy: {round(100*accuracy, 2)} %.\"\n",
    "        )\n",
    "        lowest_loss = loss"
   ]
  },
  {
   "cell_type": "code",
   "execution_count": 59,
   "id": "fa7b0cad",
   "metadata": {},
   "outputs": [
    {
     "data": {
      "text/plain": [
       "1.0986104"
      ]
     },
     "execution_count": 59,
     "metadata": {},
     "output_type": "execute_result"
    }
   ],
   "source": [
    "lowest_loss"
   ]
  },
  {
   "cell_type": "code",
   "execution_count": null,
   "id": "29434e14",
   "metadata": {},
   "outputs": [],
   "source": []
  }
 ],
 "metadata": {
  "celltoolbar": "Tags",
  "kernelspec": {
   "display_name": "Python 3 (ipykernel)",
   "language": "python",
   "name": "python3"
  },
  "language_info": {
   "codemirror_mode": {
    "name": "ipython",
    "version": 3
   },
   "file_extension": ".py",
   "mimetype": "text/x-python",
   "name": "python",
   "nbconvert_exporter": "python",
   "pygments_lexer": "ipython3",
   "version": "3.11.8"
  }
 },
 "nbformat": 4,
 "nbformat_minor": 5
}
