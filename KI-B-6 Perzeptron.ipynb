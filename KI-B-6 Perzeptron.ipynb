{
 "cells": [
  {
   "cell_type": "markdown",
   "id": "ca8fe83b",
   "metadata": {},
   "source": [
    "# Perceptron\n",
    "Deep Learning - KI29  \n",
    "Deggendorf Institute of Technology  \n",
    "Prof. Dr. Florian Wahl"
   ]
  },
  {
   "cell_type": "markdown",
   "id": "15cab038",
   "metadata": {},
   "source": [
    "## Part 1: Perceptron Example without numpy\n",
    "1. Get familiar with Jupyter Notebooks\n",
    "2. Implement a Hello World\n",
    "3. Create lists `inputs`, `weights` with 4 elements each (4 inputs, 1 neuron), and the variable `bias`\n",
    "4. Calculate the output (without activation function) \"manually\", without loops"
   ]
  },
  {
   "cell_type": "code",
   "execution_count": 19,
   "id": "2d15f7a1",
   "metadata": {},
   "outputs": [
    {
     "data": {
      "text/plain": [
       "15.88"
      ]
     },
     "execution_count": 19,
     "metadata": {},
     "output_type": "execute_result"
    }
   ],
   "source": [
    "inputs = [1.1, 2.9, 0.2, 0.4]\n",
    "weights = [3.1, 2.1, 8.7, 4.1]\n",
    "bias = 3\n",
    "\n",
    "# written out long form\n",
    "output = (\n",
    "    inputs[0] * weights[0]\n",
    "    + inputs[1] * weights[1]\n",
    "    + inputs[2] * weights[2]\n",
    "    + inputs[3] * weights[3]\n",
    "    + bias\n",
    ")\n",
    "output"
   ]
  },
  {
   "cell_type": "markdown",
   "id": "e3463c0c",
   "metadata": {},
   "source": [
    "## Part 2: More Perceptrons\n",
    "Expand your example by 2 additional perceptrons."
   ]
  },
  {
   "cell_type": "code",
   "execution_count": 20,
   "id": "23f8a19e",
   "metadata": {},
   "outputs": [
    {
     "data": {
      "text/plain": [
       "14.190000000000001"
      ]
     },
     "execution_count": 20,
     "metadata": {},
     "output_type": "execute_result"
    }
   ],
   "source": [
    "inputs = [1.1, 2.9, 0.2, 0.4, 0.6, -0.5]\n",
    "weights = [3.1, 2.1, 8.7, 4.1, 0.1, 3.5]\n",
    "bias = 3\n",
    "\n",
    "# output using map\n",
    "output = sum(map(lambda x, w: x * w, inputs, weights)) + bias\n",
    "output"
   ]
  },
  {
   "cell_type": "markdown",
   "id": "85bba011",
   "metadata": {},
   "source": [
    "## Part 3: Perceptron Example with numpy\n",
    "1. Familiarize yourself with numpy arrays\n",
    "2. Implement the example from Part 1.4, but this time using numpy and the function `np.dot()`\n",
    "3. Implement the example from Part 2, but this time using numpy and the function `np.dot()`"
   ]
  },
  {
   "cell_type": "code",
   "execution_count": 21,
   "id": "319ac1f2",
   "metadata": {},
   "outputs": [
    {
     "data": {
      "text/plain": [
       "15.879999999999999"
      ]
     },
     "execution_count": 21,
     "metadata": {},
     "output_type": "execute_result"
    }
   ],
   "source": [
    "import numpy as np\n",
    "\n",
    "inputs = [1.1, 2.9, 0.2, 0.4]\n",
    "weights = [3.1, 2.1, 8.7, 4.1]\n",
    "bias = 3\n",
    "\n",
    "output = np.dot(inputs, weights) + bias\n",
    "output"
   ]
  },
  {
   "cell_type": "code",
   "execution_count": 23,
   "id": "a4ba1313",
   "metadata": {},
   "outputs": [
    {
     "data": {
      "text/plain": [
       "14.19"
      ]
     },
     "execution_count": 23,
     "metadata": {},
     "output_type": "execute_result"
    }
   ],
   "source": [
    "inputs = np.array([1.1, 2.9, 0.2, 0.4, 0.6, -0.5])\n",
    "weights = np.array([3.1, 2.1, 8.7, 4.1, 0.1, 3.5])\n",
    "bias = 3\n",
    "\n",
    "output = np.dot(inputs, weights) + bias\n",
    "output"
   ]
  },
  {
   "cell_type": "markdown",
   "id": "368f8186",
   "metadata": {},
   "source": [
    "## Part 4: Multiple Observations\n",
    "Scale the example to work for multiple observations (here 3) and perceptrons (here 3) in one layer. For this purpose, create the 4x3 matrices for `inputs` and `weights` as lists of lists."
   ]
  },
  {
   "cell_type": "code",
   "execution_count": 18,
   "id": "0a1a9d67",
   "metadata": {},
   "outputs": [
    {
     "name": "stdout",
     "output_type": "stream",
     "text": [
      "inputs = array([1.76405235, 0.40015721, 0.97873798, 2.2408932 ])\n",
      "weights = array([[ 1.86755799, -0.97727788,  0.95008842, -0.15135721],\n",
      "       [-0.10321885,  0.4105985 ,  0.14404357,  1.45427351],\n",
      "       [ 0.76103773,  0.12167502,  0.44386323,  0.33367433]])\n",
      "bias = array([ 1.49407907, -0.20515826,  0.3130677 ])\n"
     ]
    },
    {
     "data": {
      "text/plain": [
       "array([4.98819662, 3.17691475, 2.88642156])"
      ]
     },
     "execution_count": 18,
     "metadata": {},
     "output_type": "execute_result"
    }
   ],
   "source": [
    "import numpy as np\n",
    "\n",
    "np.random.seed(0)\n",
    "\n",
    "inputs = np.random.randn(4)\n",
    "weights = np.random.randn(3, 4)\n",
    "\n",
    "bias = np.random.randn(3)\n",
    "\n",
    "print(f\"{inputs = }\")\n",
    "print(f\"{weights = }\")\n",
    "print(f\"{bias = }\")\n",
    "\n",
    "output = np.dot(inputs, weights.T) + bias\n",
    "output"
   ]
  },
  {
   "cell_type": "code",
   "execution_count": null,
   "id": "c5294691",
   "metadata": {},
   "outputs": [],
   "source": []
  }
 ],
 "metadata": {
  "celltoolbar": "Tags",
  "kernelspec": {
   "display_name": "Python 3 (ipykernel)",
   "language": "python",
   "name": "python3"
  },
  "language_info": {
   "codemirror_mode": {
    "name": "ipython",
    "version": 3
   },
   "file_extension": ".py",
   "mimetype": "text/x-python",
   "name": "python",
   "nbconvert_exporter": "python",
   "pygments_lexer": "ipython3",
   "version": "3.11.8"
  }
 },
 "nbformat": 4,
 "nbformat_minor": 5
}
